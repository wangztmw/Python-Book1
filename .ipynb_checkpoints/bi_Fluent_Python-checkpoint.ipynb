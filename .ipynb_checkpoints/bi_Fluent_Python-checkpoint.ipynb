{
 "cells": [
  {
   "cell_type": "markdown",
   "id": "809b60d1-d933-41aa-b41d-a620d635ca61",
   "metadata": {},
   "source": [
    "## 函数对象"
   ]
  },
  {
   "cell_type": "markdown",
   "id": "71a4a321-c809-4087-baea-b7c0effe95ea",
   "metadata": {},
   "source": [
    "#### 5章 一等函数"
   ]
  },
  {
   "cell_type": "code",
   "execution_count": 5,
   "id": "edec4257-5002-44f3-b699-73d8f320b536",
   "metadata": {},
   "outputs": [
    {
     "name": "stdout",
     "output_type": "stream",
     "text": [
      "1405006117752879898543142606244511569936384000000000\n",
      "returns n!\n",
      "<class 'function'>  ————\n",
      "Help on function factorial in module __main__:\n",
      "\n",
      "factorial(n)\n",
      "    returns n!\n",
      "\n",
      "None\n"
     ]
    }
   ],
   "source": [
    "def  factorial(n): \n",
    "    '''returns n!'''\n",
    "    return 1 if n < 2 else n * factorial(n-1)\n",
    "    \n",
    "print(factorial(42))\n",
    "\n",
    "print(factorial.__doc__)\n",
    "\n",
    "print(type(factorial), end=\"  ————\\n\") \n",
    "\n",
    "print(help(factorial))"
   ]
  },
  {
   "cell_type": "code",
   "execution_count": 6,
   "id": "c8450c74-ec1d-42fa-b7a2-549547f8f9eb",
   "metadata": {},
   "outputs": [
    {
     "data": {
      "text/plain": [
       "[1, 1, 2, 6, 24, 120, 720, 5040, 40320, 362880, 3628800]"
      ]
     },
     "execution_count": 6,
     "metadata": {},
     "output_type": "execute_result"
    }
   ],
   "source": [
    "list(map(factorial, range(11)))"
   ]
  },
  {
   "cell_type": "code",
   "execution_count": 3,
   "id": "7167fd92-7fa4-42ff-8761-f96bc6037b77",
   "metadata": {},
   "outputs": [
    {
     "name": "stdout",
     "output_type": "stream",
     "text": [
      "[1, 2]\n",
      "1\n"
     ]
    }
   ],
   "source": [
    "a = [1]\n",
    "b = a\n",
    "a.append(2)\n",
    "print(b)\n",
    "c = 1\n",
    "d = c\n",
    "c = 2\n",
    "print(d)"
   ]
  },
  {
   "cell_type": "code",
   "execution_count": null,
   "id": "a8a87b93-69df-46d4-b2b1-8d1484db12dc",
   "metadata": {},
   "outputs": [],
   "source": []
  }
 ],
 "metadata": {
  "kernelspec": {
   "display_name": "Python 3 (ipykernel)",
   "language": "python",
   "name": "python3"
  },
  "language_info": {
   "codemirror_mode": {
    "name": "ipython",
    "version": 3
   },
   "file_extension": ".py",
   "mimetype": "text/x-python",
   "name": "python",
   "nbconvert_exporter": "python",
   "pygments_lexer": "ipython3",
   "version": "3.9.6"
  }
 },
 "nbformat": 4,
 "nbformat_minor": 5
}
