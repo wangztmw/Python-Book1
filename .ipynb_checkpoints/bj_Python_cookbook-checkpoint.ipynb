{
 "cells": [
  {
   "cell_type": "markdown",
   "id": "d0eb29a1-0cb3-4f5d-ad1d-2b55b2873cc0",
   "metadata": {},
   "source": [
    "1、本书讲解了独立的语法部分，也讲解了Python的实用方面内容"
   ]
  },
  {
   "cell_type": "markdown",
   "id": "861b1f65-3703-48d9-81a4-6d13e1ca468f",
   "metadata": {},
   "source": [
    "#### 第一章 Python结构与算法"
   ]
  },
  {
   "cell_type": "markdown",
   "id": "224e716d-50c2-4189-b359-68b318223b78",
   "metadata": {},
   "source": [
    "#### 第二章 字符串和文本"
   ]
  },
  {
   "cell_type": "markdown",
   "id": "34fbd6de-98fc-404c-907b-4d0890439512",
   "metadata": {},
   "source": [
    "#### 第三章 数字、日期和时间"
   ]
  },
  {
   "cell_type": "markdown",
   "id": "c9c14bdc-ed24-4460-8132-53de48fafb74",
   "metadata": {},
   "source": [
    "#### 第四章 迭代器和生成器"
   ]
  },
  {
   "cell_type": "markdown",
   "id": "a5ff2976-5368-4d21-9854-a8a6d3db16c3",
   "metadata": {},
   "source": [
    "#### 第五章 文件和IO"
   ]
  },
  {
   "cell_type": "code",
   "execution_count": null,
   "id": "0e10fcd7-e885-44a9-ac01-37c8015b9650",
   "metadata": {},
   "outputs": [],
   "source": []
  },
  {
   "cell_type": "markdown",
   "id": "9136a14c-cb80-4ae7-8070-e515f6ad839e",
   "metadata": {},
   "source": [
    "#### 第六章 数据编码与处理"
   ]
  },
  {
   "cell_type": "markdown",
   "id": "30a2a921-4559-4465-bcf6-46982adf1d01",
   "metadata": {},
   "source": [
    "#### 第七章 函数"
   ]
  },
  {
   "cell_type": "markdown",
   "id": "1e4476fa-3322-488a-b146-1226227dcc02",
   "metadata": {},
   "source": [
    "#### 第八章 类与对象"
   ]
  },
  {
   "cell_type": "markdown",
   "id": "febe196f-fd76-414c-a754-1c36c682cc4c",
   "metadata": {},
   "source": [
    "#### 第九章 元编程"
   ]
  },
  {
   "cell_type": "markdown",
   "id": "b83b85bf-48a5-49b3-a5aa-b56dfc0741a3",
   "metadata": {},
   "source": [
    "#### 第十章 模块和包"
   ]
  },
  {
   "cell_type": "markdown",
   "id": "c0b7a47b-088d-4a39-9e2b-b3cfea58085c",
   "metadata": {},
   "source": [
    "#### 第十一章 网络和web编程"
   ]
  },
  {
   "cell_type": "markdown",
   "id": "96a1ff09-99a3-4f54-b6ca-6ab9f171d751",
   "metadata": {},
   "source": [
    "#### 第十二章 并发"
   ]
  },
  {
   "cell_type": "markdown",
   "id": "2306a7a5-ebb0-4fdb-88e7-bffdf2e58d5d",
   "metadata": {},
   "source": [
    "#### 第十三章 实用脚本和系统管理"
   ]
  },
  {
   "cell_type": "markdown",
   "id": "fe32ebb3-762f-453b-9e72-28f7a62a5f84",
   "metadata": {},
   "source": [
    "#### 第十四章 测试、调试以及异常"
   ]
  },
  {
   "cell_type": "markdown",
   "id": "944f399c-9c65-4dfa-85c7-0849e170120e",
   "metadata": {},
   "source": [
    "#### 第十五章 C语言扩展"
   ]
  }
 ],
 "metadata": {
  "kernelspec": {
   "display_name": "Python 3 (ipykernel)",
   "language": "python",
   "name": "python3"
  },
  "language_info": {
   "codemirror_mode": {
    "name": "ipython",
    "version": 3
   },
   "file_extension": ".py",
   "mimetype": "text/x-python",
   "name": "python",
   "nbconvert_exporter": "python",
   "pygments_lexer": "ipython3",
   "version": "3.9.6"
  }
 },
 "nbformat": 4,
 "nbformat_minor": 5
}
